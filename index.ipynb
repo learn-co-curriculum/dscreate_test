{
 "cells": [
  {
   "cell_type": "markdown",
   "metadata": {
    "index": 1,
    "solution": false
   },
   "source": [
    "# Type some code"
   ]
  },
  {
   "cell_type": "code",
   "execution_count": 1,
   "metadata": {
    "execution": {
     "iopub.execute_input": "2021-10-20T20:45:18.176478Z",
     "iopub.status.busy": "2021-10-20T20:45:18.175723Z",
     "iopub.status.idle": "2021-10-20T20:45:18.180090Z",
     "shell.execute_reply": "2021-10-20T20:45:18.180470Z"
    },
    "index": 2,
    "solution": true
   },
   "outputs": [
    {
     "name": "stdout",
     "output_type": "stream",
     "text": [
      "solution\n"
     ]
    }
   ],
   "source": [
    "print('solution')"
   ]
  }
 ],
 "metadata": {
  "interpreter": {
   "hash": "c63032d8cd9ecee3e3d8acdab764484eee7a908b1381d797f799cfbe1f8d0925"
  },
  "kernelspec": {
   "display_name": "Python 3.9.7 64-bit ('ds_create_beta': conda)",
   "name": "python3"
  },
  "language_info": {
   "codemirror_mode": {
    "name": "ipython",
    "version": 3
   },
   "file_extension": ".py",
   "mimetype": "text/x-python",
   "name": "python",
   "nbconvert_exporter": "python",
   "pygments_lexer": "ipython3",
   "version": "3.9.7"
  }
 },
 "nbformat": 4,
 "nbformat_minor": 2
}
