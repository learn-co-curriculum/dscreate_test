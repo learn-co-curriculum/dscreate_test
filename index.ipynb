{
 "cells": [
  {
   "cell_type": "code",
   "execution_count": null,
   "metadata": {
    "index": 0,
    "solution": false
   },
   "outputs": [],
   "source": [
    "# Test Activity"
   ]
  },
  {
   "cell_type": "markdown",
   "metadata": {
    "index": 1,
    "solution": false
   },
   "source": [
    "# Type some code"
   ]
  },
  {
   "cell_type": "code",
   "execution_count": null,
   "metadata": {
    "index": 3,
    "solution": false
   },
   "outputs": [],
   "source": []
  }
 ],
 "metadata": {
  "interpreter": {
   "hash": "c63032d8cd9ecee3e3d8acdab764484eee7a908b1381d797f799cfbe1f8d0925"
  },
  "kernelspec": {
   "display_name": "Python 3.9.7 64-bit ('ds_create_beta': conda)",
   "name": "python3"
  },
  "language_info": {
   "codemirror_mode": {
    "name": "ipython",
    "version": 3
   },
   "file_extension": ".py",
   "mimetype": "text/x-python",
   "name": "python",
   "nbconvert_exporter": "python",
   "pygments_lexer": "ipython3",
   "version": "3.9.7"
  }
 },
 "nbformat": 4,
 "nbformat_minor": 2
}
